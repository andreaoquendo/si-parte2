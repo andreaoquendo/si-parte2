{
 "cells": [
  {
   "cell_type": "code",
   "execution_count": 2,
   "id": "417395a6",
   "metadata": {},
   "outputs": [],
   "source": [
    "import pandas as pd # para carregar o CSV\n",
    "import numpy as np\n",
    "from joblib import dump, load\n",
    "\n",
    "from sklearn import tree\n",
    "from sklearn.datasets import load_boston\n",
    "from sklearn.svm import SVR\n",
    "from  sklearn.model_selection import train_test_split\n",
    "from sklearn.metrics import accuracy_score, recall_score, precision_score, f1_score"
   ]
  },
  {
   "cell_type": "code",
   "execution_count": 7,
   "id": "3c26ba91",
   "metadata": {},
   "outputs": [],
   "source": [
    "# Carrega os Dadps\n",
    "sinais_vitais = pd.read_csv(r'sinais_vitais.txt')\n",
    "sinais_vitais.set_index('id', inplace=True)"
   ]
  },
  {
   "cell_type": "code",
   "execution_count": 8,
   "id": "c0852daf",
   "metadata": {},
   "outputs": [],
   "source": [
    "gravidade = sinais_vitais[['grav']]\n",
    "risco = sinais_vitais['risco']\n",
    "\n",
    "risco = np.ravel(risco)"
   ]
  },
  {
   "cell_type": "code",
   "execution_count": 9,
   "id": "ce853749",
   "metadata": {},
   "outputs": [],
   "source": [
    "gravidade_treino, gravidade_teste, risco_treino, risco_teste = train_test_split(gravidade, risco, stratify=risco, random_state=1)"
   ]
  },
  {
   "cell_type": "code",
   "execution_count": 10,
   "id": "08b5028e",
   "metadata": {},
   "outputs": [
    {
     "name": "stdout",
     "output_type": "stream",
     "text": [
      "Precisão: [1. 1. 1. 1.]\n",
      "Recall: [1. 1. 1. 1.]\n",
      "Acuracidade: 1.0\n",
      "F1: [1. 1. 1. 1.]\n"
     ]
    }
   ],
   "source": [
    "clf = tree.DecisionTreeClassifier(criterion=\"gini\", splitter=\"best\")\n",
    "\n",
    "clf = clf.fit(gravidade_treino, risco_treino)\n",
    "\n",
    "prediction = clf.predict(gravidade_teste)\n",
    "\n",
    "print(\"Precisão:\",precision_score(risco_teste, prediction, average=None))\n",
    "print(\"Recall:\",recall_score(risco_teste, prediction, average=None))\n",
    "print(\"Acuracidade:\",accuracy_score(risco_teste, prediction))\n",
    "print(\"F1:\",f1_score(risco_teste, prediction, average=None))"
   ]
  },
  {
   "cell_type": "code",
   "execution_count": 13,
   "id": "be3063d6",
   "metadata": {},
   "outputs": [
    {
     "name": "stdout",
     "output_type": "stream",
     "text": [
      "Precisão: [1. 1. 1. 1.]\n",
      "Recall: [1. 1. 1. 1.]\n",
      "Acuracidade: 1.0\n",
      "F1: [1. 1. 1. 1.]\n"
     ]
    }
   ],
   "source": [
    "#dump(clf, 'cartClass.joblib') \n",
    "clf2 = load('cartClass.joblib') \n",
    "clf2.predict(gravidade_teste)\n",
    "\n",
    "print(\"Precisão:\",precision_score(risco_teste, prediction, average=None))\n",
    "print(\"Recall:\",recall_score(risco_teste, prediction, average=None))\n",
    "print(\"Acuracidade:\",accuracy_score(risco_teste, prediction))\n",
    "print(\"F1:\",f1_score(risco_teste, prediction, average=None))"
   ]
  },
  {
   "cell_type": "code",
   "execution_count": 4,
   "id": "251de348",
   "metadata": {},
   "outputs": [
    {
     "ename": "KeyError",
     "evalue": "\"None of ['id'] are in the columns\"",
     "output_type": "error",
     "traceback": [
      "\u001b[0;31m---------------------------------------------------------------------------\u001b[0m",
      "\u001b[0;31mKeyError\u001b[0m                                  Traceback (most recent call last)",
      "Input \u001b[0;32mIn [4]\u001b[0m, in \u001b[0;36m<cell line: 3>\u001b[0;34m()\u001b[0m\n\u001b[1;32m      1\u001b[0m \u001b[38;5;66;03m# Carrega os Dadps\u001b[39;00m\n\u001b[1;32m      2\u001b[0m sinais_vitais \u001b[38;5;241m=\u001b[39m pd\u001b[38;5;241m.\u001b[39mread_csv(\u001b[38;5;124mr\u001b[39m\u001b[38;5;124m'\u001b[39m\u001b[38;5;124msinais_vitais_teste.txt\u001b[39m\u001b[38;5;124m'\u001b[39m)\n\u001b[0;32m----> 3\u001b[0m \u001b[43msinais_vitais\u001b[49m\u001b[38;5;241;43m.\u001b[39;49m\u001b[43mset_index\u001b[49m\u001b[43m(\u001b[49m\u001b[38;5;124;43m'\u001b[39;49m\u001b[38;5;124;43mid\u001b[39;49m\u001b[38;5;124;43m'\u001b[39;49m\u001b[43m,\u001b[49m\u001b[43m \u001b[49m\u001b[43minplace\u001b[49m\u001b[38;5;241;43m=\u001b[39;49m\u001b[38;5;28;43;01mTrue\u001b[39;49;00m\u001b[43m)\u001b[49m\n\u001b[1;32m      4\u001b[0m gravidade \u001b[38;5;241m=\u001b[39m sinais_vitais[[\u001b[38;5;124m'\u001b[39m\u001b[38;5;124mgrav\u001b[39m\u001b[38;5;124m'\u001b[39m]]\n\u001b[1;32m      5\u001b[0m risco \u001b[38;5;241m=\u001b[39m sinais_vitais[\u001b[38;5;124m'\u001b[39m\u001b[38;5;124mrisco\u001b[39m\u001b[38;5;124m'\u001b[39m]\n",
      "File \u001b[0;32m~/.local/lib/python3.8/site-packages/pandas/util/_decorators.py:311\u001b[0m, in \u001b[0;36mdeprecate_nonkeyword_arguments.<locals>.decorate.<locals>.wrapper\u001b[0;34m(*args, **kwargs)\u001b[0m\n\u001b[1;32m    305\u001b[0m \u001b[38;5;28;01mif\u001b[39;00m \u001b[38;5;28mlen\u001b[39m(args) \u001b[38;5;241m>\u001b[39m num_allow_args:\n\u001b[1;32m    306\u001b[0m     warnings\u001b[38;5;241m.\u001b[39mwarn(\n\u001b[1;32m    307\u001b[0m         msg\u001b[38;5;241m.\u001b[39mformat(arguments\u001b[38;5;241m=\u001b[39marguments),\n\u001b[1;32m    308\u001b[0m         \u001b[38;5;167;01mFutureWarning\u001b[39;00m,\n\u001b[1;32m    309\u001b[0m         stacklevel\u001b[38;5;241m=\u001b[39mstacklevel,\n\u001b[1;32m    310\u001b[0m     )\n\u001b[0;32m--> 311\u001b[0m \u001b[38;5;28;01mreturn\u001b[39;00m \u001b[43mfunc\u001b[49m\u001b[43m(\u001b[49m\u001b[38;5;241;43m*\u001b[39;49m\u001b[43margs\u001b[49m\u001b[43m,\u001b[49m\u001b[43m \u001b[49m\u001b[38;5;241;43m*\u001b[39;49m\u001b[38;5;241;43m*\u001b[39;49m\u001b[43mkwargs\u001b[49m\u001b[43m)\u001b[49m\n",
      "File \u001b[0;32m~/.local/lib/python3.8/site-packages/pandas/core/frame.py:5488\u001b[0m, in \u001b[0;36mDataFrame.set_index\u001b[0;34m(self, keys, drop, append, inplace, verify_integrity)\u001b[0m\n\u001b[1;32m   5485\u001b[0m                 missing\u001b[38;5;241m.\u001b[39mappend(col)\n\u001b[1;32m   5487\u001b[0m \u001b[38;5;28;01mif\u001b[39;00m missing:\n\u001b[0;32m-> 5488\u001b[0m     \u001b[38;5;28;01mraise\u001b[39;00m \u001b[38;5;167;01mKeyError\u001b[39;00m(\u001b[38;5;124mf\u001b[39m\u001b[38;5;124m\"\u001b[39m\u001b[38;5;124mNone of \u001b[39m\u001b[38;5;132;01m{\u001b[39;00mmissing\u001b[38;5;132;01m}\u001b[39;00m\u001b[38;5;124m are in the columns\u001b[39m\u001b[38;5;124m\"\u001b[39m)\n\u001b[1;32m   5490\u001b[0m \u001b[38;5;28;01mif\u001b[39;00m inplace:\n\u001b[1;32m   5491\u001b[0m     frame \u001b[38;5;241m=\u001b[39m \u001b[38;5;28mself\u001b[39m\n",
      "\u001b[0;31mKeyError\u001b[0m: \"None of ['id'] are in the columns\""
     ]
    }
   ],
   "source": [
    "# Carrega os Dadps\n",
    "sinais_vitais = pd.read_csv(r'sinais_vitais_teste.txt')\n",
    "sinais_vitais.set_index('id', inplace=True)\n",
    "gravidade = sinais_vitais[['grav']]\n",
    "risco = sinais_vitais['risco']\n",
    "\n",
    "risco = np.ravel(risco)\n",
    "om_state=1)"
   ]
  },
  {
   "cell_type": "code",
   "execution_count": null,
   "id": "1b4ada30",
   "metadata": {},
   "outputs": [],
   "source": []
  }
 ],
 "metadata": {
  "kernelspec": {
   "display_name": "Python 3 (ipykernel)",
   "language": "python",
   "name": "python3"
  },
  "language_info": {
   "codemirror_mode": {
    "name": "ipython",
    "version": 3
   },
   "file_extension": ".py",
   "mimetype": "text/x-python",
   "name": "python",
   "nbconvert_exporter": "python",
   "pygments_lexer": "ipython3",
   "version": "3.8.10"
  }
 },
 "nbformat": 4,
 "nbformat_minor": 5
}
