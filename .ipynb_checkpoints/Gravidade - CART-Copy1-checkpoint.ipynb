{
 "cells": [
  {
   "cell_type": "code",
   "execution_count": 1,
   "id": "417395a6",
   "metadata": {},
   "outputs": [],
   "source": [
    "import pandas as pd # para carregar o CSV\n",
    "import numpy as np\n",
    "from joblib import dump, load\n",
    "\n",
    "from sklearn import tree\n",
    "from sklearn.datasets import load_boston\n",
    "from sklearn.svm import SVR\n",
    "from sklearn.metrics import mean_squared_error, mean_absolute_error\n",
    "from sklearn.linear_model import Perceptron\n",
    "from sklearn.neural_network import MLPRegressor\n",
    "from sklearn.datasets import make_regression"
   ]
  },
  {
   "cell_type": "code",
   "execution_count": 2,
   "id": "960ccc1d",
   "metadata": {},
   "outputs": [
    {
     "data": {
      "text/plain": [
       "array([0.5])"
      ]
     },
     "execution_count": 2,
     "metadata": {},
     "output_type": "execute_result"
    }
   ],
   "source": [
    "X = [[0, 0], [2, 2]]\n",
    "y = [0.5, 2.5]\n",
    "clf = tree.DecisionTreeRegressor()\n",
    "clf = clf.fit(X, y)\n",
    "clf.predict([[1, 1]])"
   ]
  },
  {
   "cell_type": "code",
   "execution_count": 3,
   "id": "bde0ea1c",
   "metadata": {},
   "outputs": [
    {
     "name": "stdout",
     "output_type": "stream",
     "text": [
      "[0.5]\n"
     ]
    }
   ],
   "source": [
    "print(clf.predict([[1, 1]]))"
   ]
  },
  {
   "cell_type": "code",
   "execution_count": 4,
   "id": "3c26ba91",
   "metadata": {},
   "outputs": [],
   "source": [
    "sinais_vitais = pd.read_csv(r'sinais_vitais.txt')\n",
    "sinais_vitais.set_index('id', inplace=True)"
   ]
  },
  {
   "cell_type": "code",
   "execution_count": 7,
   "id": "c0852daf",
   "metadata": {},
   "outputs": [],
   "source": [
    "sinais_vitais.head()\n",
    "sinais = sinais_vitais[['qPA','pulso', 'resp']].values\n",
    "gravidade = sinais_vitais['grav'].values"
   ]
  },
  {
   "cell_type": "code",
   "execution_count": 11,
   "id": "ffbc4b91",
   "metadata": {},
   "outputs": [],
   "source": [
    "sinais_p1 = sinais[:1300]\n",
    "grav_p1 = gravidade[:1300]\n",
    "predictions = []"
   ]
  },
  {
   "cell_type": "code",
   "execution_count": 12,
   "id": "626252e1",
   "metadata": {
    "scrolled": true
   },
   "outputs": [],
   "source": [
    "#k_fold com k=3 , utilizando a primeira e segunda parte\n",
    "div = 3\n",
    "sinais_k = np.array_split(sinais, div)\n",
    "grav_k = np.array_split(gravidade, div)\n",
    "clf = tree.DecisionTreeRegressor()\n",
    "clf = clf.fit(np.concatenate((sinais_k[0], sinais_k[1])), np.concatenate((grav_k[0], grav_k[1])))\n",
    "prediction = clf.predict(sinais_k[2])\n",
    "\n",
    "predictions.append(r2_score(grav_k[2], prediction))"
   ]
  },
  {
   "cell_type": "code",
   "execution_count": 13,
   "id": "5156320c",
   "metadata": {},
   "outputs": [],
   "source": [
    "#k_fold com k=3 , utilizando a primeira e ultima parte\n",
    "#testando com id=549 e id=550\n",
    "clf = tree.DecisionTreeRegressor()\n",
    "clf = clf.fit(np.concatenate((sinais_k[0], sinais_k[2])), np.concatenate((grav_k[0], grav_k[2])))\n",
    "prediction = clf.predict(sinais_k[1])\n",
    "\n",
    "predictions.append(r2_score(grav_k[1], prediction))"
   ]
  },
  {
   "cell_type": "code",
   "execution_count": 21,
   "id": "d30e1046",
   "metadata": {},
   "outputs": [
    {
     "ename": "NameError",
     "evalue": "name 'mean_squared_error' is not defined",
     "output_type": "error",
     "traceback": [
      "\u001b[0;31m---------------------------------------------------------------------------\u001b[0m",
      "\u001b[0;31mNameError\u001b[0m                                 Traceback (most recent call last)",
      "Input \u001b[0;32mIn [21]\u001b[0m, in \u001b[0;36m<cell line: 7>\u001b[0;34m()\u001b[0m\n\u001b[1;32m      4\u001b[0m prediction \u001b[38;5;241m=\u001b[39m clf\u001b[38;5;241m.\u001b[39mpredict(sinais_k[\u001b[38;5;241m0\u001b[39m])\n\u001b[1;32m      6\u001b[0m predictions\u001b[38;5;241m.\u001b[39mappend(r2_score(grav_k[\u001b[38;5;241m0\u001b[39m], prediction))\n\u001b[0;32m----> 7\u001b[0m \u001b[38;5;28mprint\u001b[39m(\u001b[38;5;124m\"\u001b[39m\u001b[38;5;124mMSE:\u001b[39m\u001b[38;5;124m\"\u001b[39m, \u001b[43mmean_squared_error\u001b[49m(grav_teste, prediction))\n\u001b[1;32m      8\u001b[0m \u001b[38;5;28mprint\u001b[39m(\u001b[38;5;124m\"\u001b[39m\u001b[38;5;124mMAE:\u001b[39m\u001b[38;5;124m\"\u001b[39m, mean_absolute_error(grav_teste, prediction))\n",
      "\u001b[0;31mNameError\u001b[0m: name 'mean_squared_error' is not defined"
     ]
    }
   ],
   "source": [
    "#k_fold com k=3 , utilizando a segunda e ultima parte\n",
    "clf = tree.DecisionTreeRegressor()\n",
    "clf = clf.fit(np.concatenate((sinais_k[1], sinais_k[2])), np.concatenate((grav_k[1], grav_k[2])))\n",
    "prediction = clf.predict(sinais_k[0])\n",
    "\n",
    "predictions.append(r2_score(grav_k[0], prediction))\n",
    "print(\"MSE:\", mean_squared_error(grav_teste, prediction))\n",
    "print(\"MAE:\", mean_absolute_error(grav_teste, prediction))"
   ]
  },
  {
   "cell_type": "code",
   "execution_count": 19,
   "id": "74004e82",
   "metadata": {},
   "outputs": [
    {
     "data": {
      "text/plain": [
       "[0.9465145901295509,\n",
       " 0.9421325582458634,\n",
       " 0.9184737777565505,\n",
       " 0.9152142508323793]"
      ]
     },
     "execution_count": 19,
     "metadata": {},
     "output_type": "execute_result"
    }
   ],
   "source": [
    "predictions"
   ]
  },
  {
   "cell_type": "code",
   "execution_count": 20,
   "id": "7c86dd09",
   "metadata": {},
   "outputs": [
    {
     "data": {
      "text/plain": [
       "0.930583794241086"
      ]
     },
     "execution_count": 20,
     "metadata": {},
     "output_type": "execute_result"
    }
   ],
   "source": [
    "# deve ter um nivel de aleatoriedade no algoritmo porque ele dá diferentes valores\n",
    "np.mean(predictions)"
   ]
  },
  {
   "cell_type": "code",
   "execution_count": null,
   "id": "5ffc2844",
   "metadata": {},
   "outputs": [],
   "source": [
    "dump(clf, 'neuralNetRegre.joblib') \n",
    "clf2 = load('neuralNetRegre.joblib') \n",
    "pred = clf2.predict(sinais_teste)\n",
    "\n",
    "print(\"MSE:\", mean_squared_error(grav_teste, pred))\n"
   ]
  }
 ],
 "metadata": {
  "kernelspec": {
   "display_name": "Python 3 (ipykernel)",
   "language": "python",
   "name": "python3"
  },
  "language_info": {
   "codemirror_mode": {
    "name": "ipython",
    "version": 3
   },
   "file_extension": ".py",
   "mimetype": "text/x-python",
   "name": "python",
   "nbconvert_exporter": "python",
   "pygments_lexer": "ipython3",
   "version": "3.8.10"
  }
 },
 "nbformat": 4,
 "nbformat_minor": 5
}
