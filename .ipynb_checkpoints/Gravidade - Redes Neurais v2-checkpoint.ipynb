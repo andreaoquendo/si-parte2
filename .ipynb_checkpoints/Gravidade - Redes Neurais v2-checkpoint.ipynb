{
 "cells": [
  {
   "cell_type": "code",
   "execution_count": 10,
   "id": "4ac43267",
   "metadata": {},
   "outputs": [],
   "source": [
    "from sklearn.neural_network import MLPClassifier, MLPRegressor\n",
    "import pandas as pd\n",
    "from joblib import dump, load"
   ]
  },
  {
   "cell_type": "code",
   "execution_count": 2,
   "id": "38cf0c36",
   "metadata": {},
   "outputs": [],
   "source": [
    "from  sklearn.model_selection import train_test_split\n",
    "from sklearn.metrics import mean_squared_error, mean_absolute_error\n",
    "from matplotlib import pyplot as plt\n",
    "import numpy as np"
   ]
  },
  {
   "cell_type": "code",
   "execution_count": 3,
   "id": "9ec14a47",
   "metadata": {},
   "outputs": [
    {
     "data": {
      "text/html": [
       "<div>\n",
       "<style scoped>\n",
       "    .dataframe tbody tr th:only-of-type {\n",
       "        vertical-align: middle;\n",
       "    }\n",
       "\n",
       "    .dataframe tbody tr th {\n",
       "        vertical-align: top;\n",
       "    }\n",
       "\n",
       "    .dataframe thead th {\n",
       "        text-align: right;\n",
       "    }\n",
       "</style>\n",
       "<table border=\"1\" class=\"dataframe\">\n",
       "  <thead>\n",
       "    <tr style=\"text-align: right;\">\n",
       "      <th></th>\n",
       "      <th>id</th>\n",
       "      <th>pSist</th>\n",
       "      <th>pDiast</th>\n",
       "      <th>qPA</th>\n",
       "      <th>pulso</th>\n",
       "      <th>resp</th>\n",
       "      <th>grav</th>\n",
       "      <th>risco</th>\n",
       "    </tr>\n",
       "  </thead>\n",
       "  <tbody>\n",
       "    <tr>\n",
       "      <th>0</th>\n",
       "      <td>1</td>\n",
       "      <td>13.592433</td>\n",
       "      <td>12.220855</td>\n",
       "      <td>8.416754</td>\n",
       "      <td>75.921057</td>\n",
       "      <td>21.635259</td>\n",
       "      <td>40.000000</td>\n",
       "      <td>2</td>\n",
       "    </tr>\n",
       "    <tr>\n",
       "      <th>1</th>\n",
       "      <td>2</td>\n",
       "      <td>15.775386</td>\n",
       "      <td>13.586879</td>\n",
       "      <td>8.725890</td>\n",
       "      <td>63.813564</td>\n",
       "      <td>19.718734</td>\n",
       "      <td>41.530427</td>\n",
       "      <td>2</td>\n",
       "    </tr>\n",
       "    <tr>\n",
       "      <th>2</th>\n",
       "      <td>3</td>\n",
       "      <td>3.649369</td>\n",
       "      <td>1.904802</td>\n",
       "      <td>0.000000</td>\n",
       "      <td>197.210213</td>\n",
       "      <td>19.045471</td>\n",
       "      <td>52.730745</td>\n",
       "      <td>3</td>\n",
       "    </tr>\n",
       "    <tr>\n",
       "      <th>3</th>\n",
       "      <td>4</td>\n",
       "      <td>17.264362</td>\n",
       "      <td>13.700638</td>\n",
       "      <td>8.733333</td>\n",
       "      <td>143.636181</td>\n",
       "      <td>17.621141</td>\n",
       "      <td>34.679911</td>\n",
       "      <td>2</td>\n",
       "    </tr>\n",
       "    <tr>\n",
       "      <th>4</th>\n",
       "      <td>5</td>\n",
       "      <td>12.705183</td>\n",
       "      <td>9.485389</td>\n",
       "      <td>1.747626</td>\n",
       "      <td>82.636672</td>\n",
       "      <td>12.209535</td>\n",
       "      <td>69.375882</td>\n",
       "      <td>3</td>\n",
       "    </tr>\n",
       "  </tbody>\n",
       "</table>\n",
       "</div>"
      ],
      "text/plain": [
       "   id      pSist     pDiast       qPA       pulso       resp       grav  risco\n",
       "0   1  13.592433  12.220855  8.416754   75.921057  21.635259  40.000000      2\n",
       "1   2  15.775386  13.586879  8.725890   63.813564  19.718734  41.530427      2\n",
       "2   3   3.649369   1.904802  0.000000  197.210213  19.045471  52.730745      3\n",
       "3   4  17.264362  13.700638  8.733333  143.636181  17.621141  34.679911      2\n",
       "4   5  12.705183   9.485389  1.747626   82.636672  12.209535  69.375882      3"
      ]
     },
     "execution_count": 3,
     "metadata": {},
     "output_type": "execute_result"
    }
   ],
   "source": [
    "sinais_vitais = pd.read_csv(r'sinais_vitais.txt')\n",
    "sinais_vitais.head()"
   ]
  },
  {
   "cell_type": "code",
   "execution_count": 4,
   "id": "0b90c064",
   "metadata": {},
   "outputs": [],
   "source": [
    "sinais_vitais.set_index('id', inplace=True)"
   ]
  },
  {
   "cell_type": "code",
   "execution_count": 5,
   "id": "534ad8b8",
   "metadata": {},
   "outputs": [],
   "source": [
    "sinais = sinais_vitais[['qPA','pulso', 'resp']]\n",
    "gravidade = sinais_vitais['grav']\n",
    "\n",
    "gravidade = np.ravel(gravidade)"
   ]
  },
  {
   "cell_type": "code",
   "execution_count": 6,
   "id": "bf72a0ed",
   "metadata": {},
   "outputs": [],
   "source": [
    "# k-fold com k = 2\n",
    "div = 3\n",
    "sinais_teste = sinais[:300]\n",
    "sinais_treino = sinais[300:]\n",
    "grav_k = np.array_split(gravidade, 5)\n",
    "\n",
    "grav_treino = np.concatenate((grav_k[1], grav_k[2], grav_k[3], grav_k[4]))\n",
    "grav_teste = grav_k[0]\n",
    "#sinais_treino, sinais_teste, grav_treino, grav_teste = train_test_split(sinais, gravidade, random_state = 1)\n",
    "#sinais_treino"
   ]
  },
  {
   "cell_type": "code",
   "execution_count": 35,
   "id": "da7bc0fe",
   "metadata": {},
   "outputs": [
    {
     "name": "stdout",
     "output_type": "stream",
     "text": [
      "MSE: 8.131712858088399\n",
      "MAE: 1.807957211148986\n"
     ]
    }
   ],
   "source": [
    "NN = MLPRegressor(max_iter=100000, activation=\"tanh\", hidden_layer_sizes=(22,22), learning_rate=\"adaptive\", shuffle=False)\n",
    "\n",
    "# treino\n",
    "NN.fit(sinais_treino, grav_treino)\n",
    "\n",
    "# predição\n",
    "NN_pred = NN.predict(sinais_teste)\n",
    "\n",
    "# erros\n",
    "print(\"MSE:\", mean_squared_error(grav_teste, NN_pred))\n",
    "print(\"MAE:\", mean_absolute_error(grav_teste, NN_pred))"
   ]
  },
  {
   "cell_type": "code",
   "execution_count": 32,
   "id": "2fab3c9b",
   "metadata": {},
   "outputs": [
    {
     "name": "stdout",
     "output_type": "stream",
     "text": [
      "MSE: 5.426171028796026\n",
      "MAE: 1.6465485117177885\n"
     ]
    }
   ],
   "source": [
    "dump(NN, 'neuralNetRegre.joblib') \n",
    "clf = load('neuralNetRegre.joblib') \n",
    "pred = clf.predict(sinais_teste)\n",
    "\n",
    "print(\"MSE:\", mean_squared_error(grav_teste, pred))\n",
    "print(\"MAE:\", mean_absolute_error(grav_teste, pred))"
   ]
  },
  {
   "cell_type": "code",
   "execution_count": 33,
   "id": "07dd28dc",
   "metadata": {},
   "outputs": [],
   "source": [
    "# Carrega os Dadps\n",
    "sinais_vitais = pd.read_csv(r'sinais_vitais_teste.txt')\n",
    "sinais_vitais.set_index('id', inplace=True)\n",
    "sinais = sinais_vitais[['qPA','pulso', 'resp']].values\n",
    "grav = sinais_vitais['grav'].values"
   ]
  },
  {
   "cell_type": "code",
   "execution_count": 34,
   "id": "888c1f28",
   "metadata": {},
   "outputs": [
    {
     "name": "stdout",
     "output_type": "stream",
     "text": [
      "MSE: 12.55454549330737\n",
      "MSE: 1.990098942595781\n"
     ]
    },
    {
     "name": "stderr",
     "output_type": "stream",
     "text": [
      "/home/andrea/.local/lib/python3.8/site-packages/sklearn/base.py:450: UserWarning: X does not have valid feature names, but MLPRegressor was fitted with feature names\n",
      "  warnings.warn(\n",
      "/home/andrea/.local/lib/python3.8/site-packages/sklearn/base.py:450: UserWarning: X does not have valid feature names, but MLPRegressor was fitted with feature names\n",
      "  warnings.warn(\n"
     ]
    }
   ],
   "source": [
    "clf2 = load('neuralNetRegre.joblib')\n",
    "\n",
    "print(\"MSE:\", mean_squared_error(grav, clf2.predict(sinais)))\n",
    "print(\"MSE:\", mean_absolute_error(grav, clf2.predict(sinais)))"
   ]
  },
  {
   "cell_type": "code",
   "execution_count": 41,
   "id": "28c6c2d0",
   "metadata": {},
   "outputs": [
    {
     "name": "stderr",
     "output_type": "stream",
     "text": [
      "/home/andrea/.local/lib/python3.8/site-packages/sklearn/base.py:450: UserWarning: X does not have valid feature names, but MLPRegressor was fitted with feature names\n",
      "  warnings.warn(\n",
      "/home/andrea/.local/lib/python3.8/site-packages/sklearn/base.py:450: UserWarning: X does not have valid feature names, but MLPRegressor was fitted with feature names\n",
      "  warnings.warn(\n"
     ]
    }
   ],
   "source": [
    "clf2.predict(sinais)\n",
    "df =pd.DataFrame(clf2.predict(sinais), columns=['grav'])\n",
    "df.to_csv('grav_neurais.csv', index=False)"
   ]
  },
  {
   "cell_type": "code",
   "execution_count": null,
   "id": "bfb7f822",
   "metadata": {},
   "outputs": [],
   "source": []
  }
 ],
 "metadata": {
  "kernelspec": {
   "display_name": "Python 3 (ipykernel)",
   "language": "python",
   "name": "python3"
  },
  "language_info": {
   "codemirror_mode": {
    "name": "ipython",
    "version": 3
   },
   "file_extension": ".py",
   "mimetype": "text/x-python",
   "name": "python",
   "nbconvert_exporter": "python",
   "pygments_lexer": "ipython3",
   "version": "3.8.10"
  }
 },
 "nbformat": 4,
 "nbformat_minor": 5
}
