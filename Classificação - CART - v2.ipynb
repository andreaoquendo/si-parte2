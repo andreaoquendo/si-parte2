{
 "cells": [
  {
   "cell_type": "code",
   "execution_count": 1,
   "id": "417395a6",
   "metadata": {},
   "outputs": [],
   "source": [
    "import pandas as pd # para carregar o CSV\n",
    "import numpy as np\n",
    "from joblib import dump, load\n",
    "\n",
    "from sklearn import tree\n",
    "from sklearn.datasets import load_boston\n",
    "from sklearn.svm import SVR\n",
    "from  sklearn.model_selection import train_test_split\n",
    "from sklearn.metrics import accuracy_score, recall_score, precision_score, f1_score"
   ]
  },
  {
   "cell_type": "code",
   "execution_count": 2,
   "id": "3c26ba91",
   "metadata": {},
   "outputs": [],
   "source": [
    "# Carrega os Dadps\n",
    "sinais_vitais = pd.read_csv(r'sinais_vitais.txt')\n",
    "sinais_vitais.set_index('id', inplace=True)"
   ]
  },
  {
   "cell_type": "code",
   "execution_count": 3,
   "id": "c0852daf",
   "metadata": {},
   "outputs": [],
   "source": [
    "gravidade = sinais_vitais[['grav']]\n",
    "risco = sinais_vitais['risco']\n",
    "\n",
    "risco = np.ravel(risco)"
   ]
  },
  {
   "cell_type": "code",
   "execution_count": 4,
   "id": "ce853749",
   "metadata": {},
   "outputs": [],
   "source": [
    "gravidade_treino, gravidade_teste, risco_treino, risco_teste = train_test_split(gravidade, risco, stratify=risco, random_state=1)"
   ]
  },
  {
   "cell_type": "code",
   "execution_count": 5,
   "id": "08b5028e",
   "metadata": {},
   "outputs": [
    {
     "name": "stdout",
     "output_type": "stream",
     "text": [
      "Precisão: [1. 1. 1. 1.]\n",
      "Recall: [1. 1. 1. 1.]\n",
      "Acuracidade: 1.0\n",
      "F1: [1. 1. 1. 1.]\n"
     ]
    }
   ],
   "source": [
    "clf = tree.DecisionTreeClassifier(criterion=\"gini\", splitter=\"best\")\n",
    "\n",
    "clf = clf.fit(gravidade_treino, risco_treino)\n",
    "\n",
    "prediction = clf.predict(gravidade_teste)\n",
    "\n",
    "print(\"Precisão:\",precision_score(risco_teste, prediction, average=None))\n",
    "print(\"Recall:\",recall_score(risco_teste, prediction, average=None))\n",
    "print(\"Acuracidade:\",accuracy_score(risco_teste, prediction))\n",
    "print(\"F1:\",f1_score(risco_teste, prediction, average=None))"
   ]
  },
  {
   "cell_type": "code",
   "execution_count": 6,
   "id": "be3063d6",
   "metadata": {},
   "outputs": [
    {
     "name": "stdout",
     "output_type": "stream",
     "text": [
      "Precisão: [1. 1. 1. 1.]\n",
      "Recall: [1. 1. 1. 1.]\n",
      "Acuracidade: 1.0\n",
      "F1: 1.0\n"
     ]
    }
   ],
   "source": [
    "#dump(clf, 'cartClass.joblib') \n",
    "clf2 = load('cartClass.joblib') \n",
    "clf2.predict(gravidade_teste)\n",
    "\n",
    "print(\"Precisão:\",precision_score(risco_teste, prediction, average=None))\n",
    "print(\"Recall:\",recall_score(risco_teste, prediction, average=None))\n",
    "print(\"Acuracidade:\",accuracy_score(risco_teste, prediction))\n",
    "print(\"F1:\",f1_score(risco_teste, prediction, average='weighted'))"
   ]
  },
  {
   "cell_type": "code",
   "execution_count": 7,
   "id": "251de348",
   "metadata": {},
   "outputs": [],
   "source": [
    "# Carrega os Dadps\n",
    "sinais_vitais = pd.read_csv(r'sinais_vitais_teste.txt')\n",
    "grav = pd.read_csv('grav_cart.csv')\n",
    "sinais_vitais.set_index('id', inplace=True)\n",
    "grav_nossa = grav[['grav']]\n",
    "risco = sinais_vitais['risco']\n",
    "\n",
    "risco = np.ravel(risco)\n"
   ]
  },
  {
   "cell_type": "code",
   "execution_count": 8,
   "id": "b2bd6d15",
   "metadata": {},
   "outputs": [
    {
     "name": "stdout",
     "output_type": "stream",
     "text": [
      "Precisão: [0.9375     0.95       0.89361702 0.5       ]\n",
      "Recall: [0.91836735 0.92432432 0.92307692 0.8       ]\n",
      "Acuracidade: 0.9212121212121213\n",
      "F1: 0.9227913460422993\n"
     ]
    }
   ],
   "source": [
    "clf2 = load('cartClass.joblib') \n",
    "prediction = clf2.predict(grav_nossa)\n",
    "\n",
    "print(\"Precisão:\",precision_score(risco, prediction, average=None))\n",
    "print(\"Recall:\",recall_score(risco, prediction, average=None))\n",
    "print(\"Acuracidade:\",accuracy_score(risco, prediction))\n",
    "print(\"F1:\",f1_score(risco, prediction, average='weighted'))"
   ]
  },
  {
   "cell_type": "code",
   "execution_count": 9,
   "id": "8b6683fb",
   "metadata": {},
   "outputs": [
    {
     "data": {
      "text/plain": [
       "array([1, 3, 3, 2, 3, 3, 3, 2, 2, 2, 3, 1, 1, 2, 4, 3, 2, 1, 1, 1, 2, 2,\n",
       "       4, 2, 2, 2, 1, 3, 2, 3, 2, 2, 2, 3, 2, 2, 3, 2, 2, 2, 3, 2, 2, 3,\n",
       "       2, 3, 2, 3, 2, 2, 2, 2, 1, 1, 3, 2, 2, 3, 2, 2, 1, 2, 2, 2, 3, 2,\n",
       "       2, 2, 2, 3, 1, 1, 1, 4, 2, 2, 3, 3, 2, 2, 2, 2, 2, 2, 2, 3, 1, 1,\n",
       "       3, 3, 3, 2, 3, 3, 3, 2, 3, 2, 3, 2, 2, 1, 2, 2, 1, 2, 1, 1, 2, 3,\n",
       "       3, 2, 2, 2, 3, 3, 2, 1, 3, 4, 2, 2, 3, 1, 2, 2, 2, 2, 2, 1, 3, 2,\n",
       "       2, 2, 1, 2, 1, 2, 3, 3, 1, 2, 2, 2, 3, 2, 3, 2, 2, 2, 2, 2, 1, 2,\n",
       "       2, 2, 3, 2, 2, 3, 2, 3, 2, 2, 2, 3, 3, 3, 3, 3, 3, 2, 2, 2, 2, 3,\n",
       "       3, 1, 3, 1, 2, 3, 2, 2, 2, 3, 2, 2, 2, 3, 1, 1, 3, 3, 2, 3, 2, 2,\n",
       "       2, 1, 2, 4, 2, 3, 2, 3, 1, 2, 1, 2, 2, 2, 2, 1, 1, 3, 1, 3, 2, 3,\n",
       "       3, 2, 1, 3, 3, 2, 2, 3, 3, 2, 2, 2, 2, 1, 2, 1, 3, 2, 2, 2, 2, 2,\n",
       "       2, 3, 2, 2, 3, 3, 3, 2, 1, 2, 2, 3, 3, 2, 2, 2, 2, 2, 2, 3, 2, 3,\n",
       "       3, 2, 3, 2, 3, 3, 2, 2, 2, 2, 1, 1, 2, 3, 3, 2, 2, 2, 2, 2, 1, 3,\n",
       "       2, 1, 2, 2, 2, 2, 2, 3, 2, 2, 2, 3, 2, 2, 2, 2, 2, 3, 4, 3, 3, 3,\n",
       "       2, 2, 1, 2, 2, 2, 1, 3, 4, 2, 4, 2, 1, 3, 1, 2, 2, 2, 2, 3, 2, 2])"
      ]
     },
     "execution_count": 9,
     "metadata": {},
     "output_type": "execute_result"
    }
   ],
   "source": [
    "prediction"
   ]
  },
  {
   "cell_type": "code",
   "execution_count": 10,
   "id": "4352efdc",
   "metadata": {},
   "outputs": [
    {
     "data": {
      "text/plain": [
       "array([1, 3, 3, 2, 3, 3, 3, 2, 2, 2, 3, 1, 1, 2, 4, 3, 2, 1, 1, 1, 2, 3,\n",
       "       4, 2, 2, 2, 1, 3, 2, 3, 2, 2, 2, 3, 2, 2, 3, 2, 2, 2, 3, 2, 2, 3,\n",
       "       2, 3, 2, 3, 2, 2, 2, 2, 1, 1, 3, 3, 2, 3, 2, 2, 1, 2, 2, 2, 3, 2,\n",
       "       2, 2, 2, 3, 1, 1, 1, 2, 2, 2, 2, 3, 2, 3, 2, 2, 2, 2, 2, 3, 1, 1,\n",
       "       3, 3, 2, 2, 3, 3, 2, 2, 3, 2, 3, 2, 2, 1, 2, 2, 1, 2, 1, 1, 2, 3,\n",
       "       3, 2, 2, 2, 2, 3, 2, 1, 3, 3, 2, 2, 3, 1, 2, 2, 2, 2, 2, 1, 3, 2,\n",
       "       2, 2, 1, 2, 1, 2, 3, 3, 1, 2, 2, 2, 3, 2, 3, 2, 2, 2, 2, 2, 1, 2,\n",
       "       2, 2, 3, 2, 1, 2, 2, 3, 2, 2, 2, 3, 3, 2, 3, 3, 3, 2, 2, 1, 2, 3,\n",
       "       3, 1, 3, 2, 2, 3, 2, 2, 2, 3, 2, 2, 2, 3, 1, 1, 3, 3, 2, 3, 2, 2,\n",
       "       2, 1, 2, 4, 2, 3, 1, 3, 1, 2, 2, 2, 2, 2, 3, 1, 1, 3, 1, 2, 2, 3,\n",
       "       3, 2, 1, 3, 3, 2, 2, 2, 3, 2, 2, 2, 2, 1, 2, 1, 3, 2, 2, 2, 2, 2,\n",
       "       2, 3, 2, 2, 3, 3, 3, 2, 1, 2, 2, 3, 3, 3, 2, 2, 2, 2, 2, 3, 2, 3,\n",
       "       3, 2, 3, 2, 3, 3, 2, 2, 2, 2, 2, 1, 2, 3, 3, 2, 2, 2, 2, 2, 1, 3,\n",
       "       2, 1, 2, 2, 2, 2, 2, 3, 2, 2, 2, 2, 2, 2, 2, 2, 2, 3, 3, 3, 3, 4,\n",
       "       2, 2, 1, 2, 1, 2, 1, 3, 2, 2, 4, 2, 1, 3, 1, 2, 2, 2, 2, 3, 2, 2])"
      ]
     },
     "execution_count": 10,
     "metadata": {},
     "output_type": "execute_result"
    }
   ],
   "source": [
    "risco"
   ]
  }
 ],
 "metadata": {
  "kernelspec": {
   "display_name": "Python 3 (ipykernel)",
   "language": "python",
   "name": "python3"
  },
  "language_info": {
   "codemirror_mode": {
    "name": "ipython",
    "version": 3
   },
   "file_extension": ".py",
   "mimetype": "text/x-python",
   "name": "python",
   "nbconvert_exporter": "python",
   "pygments_lexer": "ipython3",
   "version": "3.8.10"
  }
 },
 "nbformat": 4,
 "nbformat_minor": 5
}
