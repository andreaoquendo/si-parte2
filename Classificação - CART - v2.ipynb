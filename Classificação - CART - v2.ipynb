{
 "cells": [
  {
   "cell_type": "code",
   "execution_count": 6,
   "id": "417395a6",
   "metadata": {},
   "outputs": [],
   "source": [
    "import pandas as pd # para carregar o CSV\n",
    "import numpy as np\n",
    "from joblib import dump, load\n",
    "\n",
    "from sklearn import tree\n",
    "from sklearn.datasets import load_boston\n",
    "from sklearn.svm import SVR\n",
    "from  sklearn.model_selection import train_test_split\n",
    "from sklearn.metrics import accuracy_score, recall_score, precision_score, f1_score"
   ]
  },
  {
   "cell_type": "code",
   "execution_count": 7,
   "id": "3c26ba91",
   "metadata": {},
   "outputs": [],
   "source": [
    "# Carrega os Dadps\n",
    "sinais_vitais = pd.read_csv(r'sinais_vitais.txt')\n",
    "sinais_vitais.set_index('id', inplace=True)"
   ]
  },
  {
   "cell_type": "code",
   "execution_count": 8,
   "id": "c0852daf",
   "metadata": {},
   "outputs": [],
   "source": [
    "gravidade = sinais_vitais[['grav']]\n",
    "risco = sinais_vitais['risco']\n",
    "\n",
    "risco = np.ravel(risco)"
   ]
  },
  {
   "cell_type": "code",
   "execution_count": 9,
   "id": "ce853749",
   "metadata": {},
   "outputs": [],
   "source": [
    "gravidade_treino, gravidade_teste, risco_treino, risco_teste = train_test_split(gravidade, risco, stratify=risco, random_state=1)"
   ]
  },
  {
   "cell_type": "code",
   "execution_count": 10,
   "id": "08b5028e",
   "metadata": {},
   "outputs": [
    {
     "name": "stdout",
     "output_type": "stream",
     "text": [
      "Precisão: [1. 1. 1. 1.]\n",
      "Recall: [1. 1. 1. 1.]\n",
      "Acuracidade: 1.0\n",
      "F1: [1. 1. 1. 1.]\n"
     ]
    }
   ],
   "source": [
    "clf = tree.DecisionTreeClassifier(criterion=\"gini\", splitter=\"best\")\n",
    "\n",
    "clf = clf.fit(gravidade_treino, risco_treino)\n",
    "\n",
    "prediction = clf.predict(gravidade_teste)\n",
    "\n",
    "print(\"Precisão:\",precision_score(risco_teste, prediction, average=None))\n",
    "print(\"Recall:\",recall_score(risco_teste, prediction, average=None))\n",
    "print(\"Acuracidade:\",accuracy_score(risco_teste, prediction))\n",
    "print(\"F1:\",f1_score(risco_teste, prediction, average=None))"
   ]
  },
  {
   "cell_type": "code",
   "execution_count": 13,
   "id": "be3063d6",
   "metadata": {},
   "outputs": [
    {
     "name": "stdout",
     "output_type": "stream",
     "text": [
      "Precisão: [1. 1. 1. 1.]\n",
      "Recall: [1. 1. 1. 1.]\n",
      "Acuracidade: 1.0\n",
      "F1: [1. 1. 1. 1.]\n"
     ]
    }
   ],
   "source": [
    "dump(clf, 'cartClass.joblib') \n",
    "clf2 = load('cartClass.joblib') \n",
    "clf2.predict(gravidade_teste)\n",
    "\n",
    "print(\"Precisão:\",precision_score(risco_teste, prediction, average=None))\n",
    "print(\"Recall:\",recall_score(risco_teste, prediction, average=None))\n",
    "print(\"Acuracidade:\",accuracy_score(risco_teste, prediction))\n",
    "print(\"F1:\",f1_score(risco_teste, prediction, average=None))"
   ]
  },
  {
   "cell_type": "code",
   "execution_count": null,
   "id": "251de348",
   "metadata": {},
   "outputs": [],
   "source": []
  }
 ],
 "metadata": {
  "kernelspec": {
   "display_name": "Python 3 (ipykernel)",
   "language": "python",
   "name": "python3"
  },
  "language_info": {
   "codemirror_mode": {
    "name": "ipython",
    "version": 3
   },
   "file_extension": ".py",
   "mimetype": "text/x-python",
   "name": "python",
   "nbconvert_exporter": "python",
   "pygments_lexer": "ipython3",
   "version": "3.8.10"
  }
 },
 "nbformat": 4,
 "nbformat_minor": 5
}
