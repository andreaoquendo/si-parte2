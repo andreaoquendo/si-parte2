{
 "cells": [
  {
   "cell_type": "code",
   "execution_count": 2,
   "id": "4ac43267",
   "metadata": {},
   "outputs": [],
   "source": [
    "from sklearn.neural_network import MLPClassifier, MLPRegressor\n",
    "import pandas as pd\n",
    "from joblib import dump, load\n",
    "from sklearn import svm, datasets"
   ]
  },
  {
   "cell_type": "code",
   "execution_count": 3,
   "id": "38cf0c36",
   "metadata": {},
   "outputs": [],
   "source": [
    "from  sklearn.model_selection import train_test_split\n",
    "from sklearn.metrics import precision_score, recall_score, accuracy_score, f1_score\n",
    "from matplotlib import pyplot as plt\n",
    "import numpy as np"
   ]
  },
  {
   "cell_type": "code",
   "execution_count": 4,
   "id": "9ec14a47",
   "metadata": {},
   "outputs": [],
   "source": [
    "sinais_vitais = pd.read_csv(r'sinais_vitais.txt')\n",
    "sinais_vitais.set_index('id', inplace=True)"
   ]
  },
  {
   "cell_type": "code",
   "execution_count": 5,
   "id": "534ad8b8",
   "metadata": {},
   "outputs": [],
   "source": [
    "gravidade = sinais_vitais[['grav']]\n",
    "risco = sinais_vitais['risco']\n",
    "\n",
    "risco = np.ravel(risco)"
   ]
  },
  {
   "cell_type": "code",
   "execution_count": 6,
   "id": "a7384673",
   "metadata": {},
   "outputs": [],
   "source": [
    "gravidade_treino, gravidade_teste, risco_treino, risco_teste = train_test_split(gravidade, risco, stratify=risco, random_state=1)\n"
   ]
  },
  {
   "cell_type": "code",
   "execution_count": 8,
   "id": "da7bc0fe",
   "metadata": {},
   "outputs": [
    {
     "name": "stdout",
     "output_type": "stream",
     "text": [
      "Precisão: [1.         0.94418605 0.95283019 1.        ]\n",
      "Recall: [0.79310345 0.97596154 1.         1.        ]\n",
      "Acuracidade: 0.9546666666666667\n",
      "F1: [0.88461538 0.95981087 0.97584541 1.        ]\n"
     ]
    }
   ],
   "source": [
    "NN = MLPClassifier(max_iter=100000)\n",
    "\n",
    "# treino\n",
    "NN.fit(gravidade_treino, risco_treino)\n",
    "\n",
    "# predição\n",
    "NN_pred = NN.predict(gravidade_teste)\n",
    "\n",
    "print(\"Precisão:\",precision_score(risco_teste, NN_pred, average=None))\n",
    "print(\"Recall:\",recall_score(risco_teste, NN_pred, average=None))\n",
    "print(\"Acuracidade:\",accuracy_score(risco_teste, NN_pred))\n",
    "print(\"F1:\",f1_score(risco_teste, NN_pred, average='weighted'))"
   ]
  },
  {
   "cell_type": "code",
   "execution_count": 17,
   "id": "bed7a659",
   "metadata": {},
   "outputs": [
    {
     "name": "stdout",
     "output_type": "stream",
     "text": [
      "Precisão: [1.         0.97196262 1.         1.        ]\n",
      "Recall: [0.93103448 1.         0.98019802 1.        ]\n",
      "Acuracidade: 0.984\n",
      "F1: 0.9838966012186866\n"
     ]
    }
   ],
   "source": [
    "#dump(NN, 'neuralNetClass.joblib') \n",
    "clf = load('neuralNetClass.joblib') \n",
    "pred = clf.predict(gravidade_teste)\n",
    "\n",
    "print(\"Precisão:\",precision_score(risco_teste, pred, average=None))\n",
    "print(\"Recall:\",recall_score(risco_teste, pred, average=None))\n",
    "print(\"Acuracidade:\",accuracy_score(risco_teste, pred))\n",
    "print(\"F1:\",f1_score(risco_teste, pred, average='weighted'))"
   ]
  },
  {
   "cell_type": "code",
   "execution_count": 18,
   "id": "1684c323",
   "metadata": {},
   "outputs": [],
   "source": [
    "# Carrega os Dadps\n",
    "sinais_vitais = pd.read_csv(r'sinais_vitais_teste.txt')\n",
    "grav = pd.read_csv('grav_neurais.csv')\n",
    "sinais_vitais.set_index('id', inplace=True)\n",
    "grav_nossa = grav[['grav']]\n",
    "risco = sinais_vitais['risco']\n",
    "\n",
    "risco = np.ravel(risco)"
   ]
  },
  {
   "cell_type": "code",
   "execution_count": 19,
   "id": "33839728",
   "metadata": {},
   "outputs": [
    {
     "name": "stdout",
     "output_type": "stream",
     "text": [
      "Precisão: [0.86792453 0.95       0.93406593 0.83333333]\n",
      "Recall: [0.93877551 0.92432432 0.93406593 1.        ]\n",
      "Acuracidade: 0.9303030303030303\n",
      "F1: 0.9305575719098539\n"
     ]
    }
   ],
   "source": [
    "clf = load('neuralNetClass.joblib') \n",
    "prediction = clf.predict(grav_nossa)\n",
    "\n",
    "print(\"Precisão:\",precision_score(risco, prediction, average=None))\n",
    "print(\"Recall:\",recall_score(risco, prediction, average=None))\n",
    "print(\"Acuracidade:\",accuracy_score(risco, prediction))\n",
    "print(\"F1:\",f1_score(risco, prediction, average='weighted'))"
   ]
  },
  {
   "cell_type": "code",
   "execution_count": null,
   "id": "6c888234",
   "metadata": {},
   "outputs": [],
   "source": []
  }
 ],
 "metadata": {
  "kernelspec": {
   "display_name": "Python 3 (ipykernel)",
   "language": "python",
   "name": "python3"
  },
  "language_info": {
   "codemirror_mode": {
    "name": "ipython",
    "version": 3
   },
   "file_extension": ".py",
   "mimetype": "text/x-python",
   "name": "python",
   "nbconvert_exporter": "python",
   "pygments_lexer": "ipython3",
   "version": "3.8.10"
  }
 },
 "nbformat": 4,
 "nbformat_minor": 5
}
