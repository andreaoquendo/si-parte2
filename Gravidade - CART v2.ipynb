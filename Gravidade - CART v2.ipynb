{
 "cells": [
  {
   "cell_type": "code",
   "execution_count": 1,
   "id": "417395a6",
   "metadata": {},
   "outputs": [],
   "source": [
    "import pandas as pd # para carregar o CSV\n",
    "import numpy as np\n",
    "from joblib import dump, load\n",
    "\n",
    "from  sklearn.model_selection import train_test_split\n",
    "from sklearn import tree\n",
    "from sklearn.datasets import load_boston\n",
    "from sklearn.svm import SVR\n",
    "from sklearn.metrics import mean_squared_error, mean_absolute_error, r2_score"
   ]
  },
  {
   "cell_type": "code",
   "execution_count": 2,
   "id": "3c26ba91",
   "metadata": {},
   "outputs": [],
   "source": [
    "sinais_vitais = pd.read_csv(r'sinais_vitais.txt')\n",
    "sinais_vitais.set_index('id', inplace=True)"
   ]
  },
  {
   "cell_type": "code",
   "execution_count": 3,
   "id": "c0852daf",
   "metadata": {},
   "outputs": [],
   "source": [
    "sinais_vitais.head()\n",
    "sinais = sinais_vitais[['qPA','pulso', 'resp']]\n",
    "gravidade = sinais_vitais['grav']"
   ]
  },
  {
   "cell_type": "code",
   "execution_count": 4,
   "id": "2bc0ec0e",
   "metadata": {},
   "outputs": [],
   "source": [
    "sinais = sinais.to_numpy()\n",
    "gravidade = np.ravel(gravidade)"
   ]
  },
  {
   "cell_type": "code",
   "execution_count": 5,
   "id": "5b448a80",
   "metadata": {},
   "outputs": [],
   "source": [
    "sinais_treino, sinais_teste, gravidade_treino, gravidade_teste = train_test_split(sinais, gravidade,random_state=1)"
   ]
  },
  {
   "cell_type": "code",
   "execution_count": 6,
   "id": "2da895c1",
   "metadata": {},
   "outputs": [],
   "source": [
    "clf = tree.DecisionTreeRegressor(max_depth=15)\n",
    "\n",
    "clf = clf.fit(sinais_treino, gravidade_treino)\n",
    "\n",
    "prediction = clf.predict(sinais_teste)"
   ]
  },
  {
   "cell_type": "code",
   "execution_count": 7,
   "id": "8f9c9b76",
   "metadata": {},
   "outputs": [
    {
     "name": "stdout",
     "output_type": "stream",
     "text": [
      "MSE: 4.723854238601153\n",
      "MSE: 2.426855596666667\n"
     ]
    }
   ],
   "source": [
    "dump(clf, 'cartRegre.joblib') \n",
    "clf2 = load('cartRegre.joblib')\n",
    "\n",
    "clf2.predict(sinais_teste)\n",
    "\n",
    "print(\"MSE:\", mean_squared_error(gravidade_teste, clf2.predict(sinais_teste), squared=False))\n",
    "print(\"MSE:\", mean_absolute_error(gravidade_teste, clf2.predict(sinais_teste)))"
   ]
  },
  {
   "cell_type": "code",
   "execution_count": 8,
   "id": "d1dec1cf",
   "metadata": {},
   "outputs": [],
   "source": [
    "# Carrega os Dados\n",
    "sinais_vitais = pd.read_csv(r'sinais_vitais_teste.txt')\n",
    "sinais_vitais.set_index('id', inplace=True)\n",
    "sinais = sinais_vitais[['qPA','pulso', 'resp']].values\n",
    "grav = sinais_vitais['grav'].values"
   ]
  },
  {
   "cell_type": "code",
   "execution_count": 9,
   "id": "673b959a",
   "metadata": {},
   "outputs": [
    {
     "name": "stdout",
     "output_type": "stream",
     "text": [
      "MSE: 5.244621456775034\n",
      "MSE: 2.7226844621212125\n"
     ]
    }
   ],
   "source": [
    "clf2 = load('cartRegre.joblib')\n",
    "\n",
    "print(\"MSE:\", mean_squared_error(grav, clf2.predict(sinais), squared=False))\n",
    "print(\"MSE:\", mean_absolute_error(grav, clf2.predict(sinais)))"
   ]
  },
  {
   "cell_type": "code",
   "execution_count": 10,
   "id": "46abeba1",
   "metadata": {},
   "outputs": [],
   "source": [
    "clf2.predict(sinais)\n",
    "df = pd.DataFrame(clf2.predict(sinais), columns=['grav'])\n",
    "df.to_csv('grav_cart.csv', index=False)"
   ]
  }
 ],
 "metadata": {
  "kernelspec": {
   "display_name": "Python 3 (ipykernel)",
   "language": "python",
   "name": "python3"
  },
  "language_info": {
   "codemirror_mode": {
    "name": "ipython",
    "version": 3
   },
   "file_extension": ".py",
   "mimetype": "text/x-python",
   "name": "python",
   "nbconvert_exporter": "python",
   "pygments_lexer": "ipython3",
   "version": "3.8.10"
  }
 },
 "nbformat": 4,
 "nbformat_minor": 5
}
