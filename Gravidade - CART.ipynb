{
 "cells": [
  {
   "cell_type": "code",
   "execution_count": 111,
   "id": "417395a6",
   "metadata": {},
   "outputs": [],
   "source": [
    "import pandas as pd # para carregar o CSV\n",
    "import numpy as np\n",
    "\n",
    "from sklearn import tree\n",
    "from sklearn.datasets import load_boston\n",
    "from sklearn.svm import SVR\n",
    "from sklearn.metrics import r2_score"
   ]
  },
  {
   "cell_type": "code",
   "execution_count": 7,
   "id": "960ccc1d",
   "metadata": {},
   "outputs": [
    {
     "data": {
      "text/plain": [
       "array([0.5])"
      ]
     },
     "execution_count": 7,
     "metadata": {},
     "output_type": "execute_result"
    }
   ],
   "source": [
    "X = [[0, 0], [2, 2]]\n",
    "y = [0.5, 2.5]\n",
    "clf = tree.DecisionTreeRegressor()\n",
    "clf = clf.fit(X, y)\n",
    "clf.predict([[1, 1]])"
   ]
  },
  {
   "cell_type": "code",
   "execution_count": 8,
   "id": "bde0ea1c",
   "metadata": {},
   "outputs": [
    {
     "name": "stdout",
     "output_type": "stream",
     "text": [
      "[0.5]\n"
     ]
    }
   ],
   "source": [
    "print(clf.predict([[1, 1]]))"
   ]
  },
  {
   "cell_type": "code",
   "execution_count": null,
   "id": "9705ce3c",
   "metadata": {
    "scrolled": false
   },
   "outputs": [],
   "source": []
  },
  {
   "cell_type": "code",
   "execution_count": 35,
   "id": "3c26ba91",
   "metadata": {},
   "outputs": [],
   "source": [
    "sinais_vitais = pd.read_csv(r'sinais_vitais.txt')\n",
    "sinais_vitais.set_index('id', inplace=True)"
   ]
  },
  {
   "cell_type": "code",
   "execution_count": 46,
   "id": "c0852daf",
   "metadata": {},
   "outputs": [
    {
     "data": {
      "text/plain": [
       "array([40.      , 41.530427, 52.730745, ..., 24.530704, 61.062546,\n",
       "       39.110506])"
      ]
     },
     "execution_count": 46,
     "metadata": {},
     "output_type": "execute_result"
    }
   ],
   "source": [
    "sinais_vitais.head()\n",
    "sinais = sinais_vitais[['qPA','pulso', 'resp']].values\n",
    "gravidade = sinais_vitais['grav'].values"
   ]
  },
  {
   "cell_type": "code",
   "execution_count": 62,
   "id": "ffbc4b91",
   "metadata": {},
   "outputs": [],
   "source": [
    "sinais_p1 = sinais[:1300]\n",
    "grav_p1 = gravidade[:1300]"
   ]
  },
  {
   "cell_type": "code",
   "execution_count": 103,
   "id": "f1328ebb",
   "metadata": {},
   "outputs": [],
   "source": [
    "clf = tree.DecisionTreeRegressor()\n",
    "\n",
    "predictions = []\n",
    "#clf = clf.fit(sinais_p1, grav_p1)\n",
    "#clf.predict([[4.745181,196.803149,11.875068],[1.707746,184.267283,14.256125]])"
   ]
  },
  {
   "cell_type": "code",
   "execution_count": 104,
   "id": "626252e1",
   "metadata": {
    "scrolled": true
   },
   "outputs": [],
   "source": [
    "#k_fold com k=3 , utilizando a primeira e segunda parte\n",
    "div = 3\n",
    "sinais_k = np.array_split(sinais, div)\n",
    "grav_k = np.array_split(gravidade, div)\n",
    "clf = tree.DecisionTreeRegressor()\n",
    "clf = clf.fit(np.concatenate((sinais_k[0], sinais_k[1])), np.concatenate((grav_k[0], grav_k[1])))\n",
    "prediction = clf.predict(sinais_k[2])\n",
    "\n",
    "predictions.append(r2_score(grav_k[2], prediction))"
   ]
  },
  {
   "cell_type": "code",
   "execution_count": 105,
   "id": "5156320c",
   "metadata": {},
   "outputs": [],
   "source": [
    "#k_fold com k=3 , utilizando a primeira e ultima parte\n",
    "#testando com id=549 e id=550\n",
    "clf = tree.DecisionTreeRegressor()\n",
    "clf = clf.fit(np.concatenate((sinais_k[0], sinais_k[2])), np.concatenate((grav_k[0], grav_k[2])))\n",
    "prediction = clf.predict(sinais_k[1])\n",
    "\n",
    "predictions.append(r2_score(grav_k[1], prediction))"
   ]
  },
  {
   "cell_type": "code",
   "execution_count": 106,
   "id": "d30e1046",
   "metadata": {},
   "outputs": [],
   "source": [
    "#k_fold com k=3 , utilizando a segunda e ultima parte\n",
    "clf = tree.DecisionTreeRegressor()\n",
    "clf = clf.fit(np.concatenate((sinais_k[1], sinais_k[2])), np.concatenate((grav_k[1], grav_k[2])))\n",
    "prediction = clf.predict(sinais_k[0])\n",
    "\n",
    "predictions.append(r2_score(grav_k[0], prediction))"
   ]
  },
  {
   "cell_type": "code",
   "execution_count": 107,
   "id": "74004e82",
   "metadata": {},
   "outputs": [
    {
     "data": {
      "text/plain": [
       "[0.9436134990478889, 0.9378724784883554, 0.9150248145198612]"
      ]
     },
     "execution_count": 107,
     "metadata": {},
     "output_type": "execute_result"
    }
   ],
   "source": [
    "predictions"
   ]
  },
  {
   "cell_type": "code",
   "execution_count": 108,
   "id": "7c86dd09",
   "metadata": {},
   "outputs": [
    {
     "data": {
      "text/plain": [
       "0.9321702640187018"
      ]
     },
     "execution_count": 108,
     "metadata": {},
     "output_type": "execute_result"
    }
   ],
   "source": [
    "# deve ter um nivel de aleatoriedade no algoritmo porque ele dá diferentes valores\n",
    "np.mean(predictions)"
   ]
  },
  {
   "cell_type": "code",
   "execution_count": null,
   "id": "8f9c9b76",
   "metadata": {},
   "outputs": [],
   "source": []
  },
  {
   "cell_type": "code",
   "execution_count": null,
   "id": "d1dec1cf",
   "metadata": {},
   "outputs": [],
   "source": []
  }
 ],
 "metadata": {
  "kernelspec": {
   "display_name": "Python 3 (ipykernel)",
   "language": "python",
   "name": "python3"
  },
  "language_info": {
   "codemirror_mode": {
    "name": "ipython",
    "version": 3
   },
   "file_extension": ".py",
   "mimetype": "text/x-python",
   "name": "python",
   "nbconvert_exporter": "python",
   "pygments_lexer": "ipython3",
   "version": "3.8.10"
  }
 },
 "nbformat": 4,
 "nbformat_minor": 5
}
