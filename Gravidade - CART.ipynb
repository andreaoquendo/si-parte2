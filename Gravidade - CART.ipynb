{
 "cells": [
  {
   "cell_type": "code",
   "execution_count": 1,
   "id": "417395a6",
   "metadata": {},
   "outputs": [],
   "source": [
    "import pandas as pd # para carregar o CSV\n",
    "import numpy as np\n",
    "from joblib import dump, load\n",
    "\n",
    "from sklearn import tree\n",
    "from sklearn.datasets import load_boston\n",
    "from sklearn.svm import SVR\n",
    "from sklearn.metrics import mean_squared_error, mean_absolute_error, r2_score"
   ]
  },
  {
   "cell_type": "code",
   "execution_count": 2,
   "id": "3c26ba91",
   "metadata": {},
   "outputs": [],
   "source": [
    "sinais_vitais = pd.read_csv(r'sinais_vitais.txt')\n",
    "sinais_vitais.set_index('id', inplace=True)"
   ]
  },
  {
   "cell_type": "code",
   "execution_count": 3,
   "id": "c0852daf",
   "metadata": {},
   "outputs": [],
   "source": [
    "sinais_vitais.head()\n",
    "sinais = sinais_vitais[['qPA','pulso', 'resp']].values\n",
    "gravidade = sinais_vitais['grav'].values"
   ]
  },
  {
   "cell_type": "code",
   "execution_count": 4,
   "id": "ffbc4b91",
   "metadata": {},
   "outputs": [],
   "source": [
    "sinais_p1 = sinais[:1300]\n",
    "grav_p1 = gravidade[:1300]"
   ]
  },
  {
   "cell_type": "code",
   "execution_count": 5,
   "id": "f1328ebb",
   "metadata": {},
   "outputs": [],
   "source": [
    "predictions = []\n",
    "#clf = clf.fit(sinais_p1, grav_p1)\n",
    "#clf.predict([[4.745181,196.803149,11.875068],[1.707746,184.267283,14.256125]])"
   ]
  },
  {
   "cell_type": "code",
   "execution_count": 6,
   "id": "626252e1",
   "metadata": {
    "scrolled": true
   },
   "outputs": [],
   "source": [
    "#k_fold com k=3 , utilizando a primeira e segunda parte\n",
    "div = 3\n",
    "sinais_k = np.array_split(sinais, div)\n",
    "grav_k = np.array_split(gravidade, div)\n",
    "clf = tree.DecisionTreeRegressor(max_depth=15)\n",
    "clf = clf.fit(np.concatenate((sinais_k[0], sinais_k[1])), np.concatenate((grav_k[0], grav_k[1])))\n",
    "prediction = clf.predict(sinais_k[2])\n",
    "\n",
    "predictions.append(mean_squared_error(grav_k[2], prediction))"
   ]
  },
  {
   "cell_type": "code",
   "execution_count": 7,
   "id": "5156320c",
   "metadata": {},
   "outputs": [],
   "source": [
    "#k_fold com k=3 , utilizando a primeira e ultima parte\n",
    "#testando com id=549 e id=550\n",
    "clf = clf.fit(np.concatenate((sinais_k[0], sinais_k[2])), np.concatenate((grav_k[0], grav_k[2])))\n",
    "prediction = clf.predict(sinais_k[1])\n",
    "\n",
    "predictions.append(mean_squared_error(grav_k[1], prediction))"
   ]
  },
  {
   "cell_type": "code",
   "execution_count": 8,
   "id": "d30e1046",
   "metadata": {},
   "outputs": [],
   "source": [
    "#k_fold com k=3 , utilizando a segunda e ultima parte\n",
    "clf = clf.fit(np.concatenate((sinais_k[1], sinais_k[2])), np.concatenate((grav_k[1], grav_k[2])))\n",
    "prediction = clf.predict(sinais_k[0])\n",
    "\n",
    "predictions.append(mean_squared_error(grav_k[0], prediction))"
   ]
  },
  {
   "cell_type": "code",
   "execution_count": 9,
   "id": "74004e82",
   "metadata": {},
   "outputs": [
    {
     "data": {
      "text/plain": [
       "[16.056594128150202, 18.69471902319624, 25.690398376553848]"
      ]
     },
     "execution_count": 9,
     "metadata": {},
     "output_type": "execute_result"
    }
   ],
   "source": [
    "predictions\n"
   ]
  },
  {
   "cell_type": "code",
   "execution_count": 10,
   "id": "7c86dd09",
   "metadata": {},
   "outputs": [
    {
     "name": "stdout",
     "output_type": "stream",
     "text": [
      "MSE: 20.14723717596676\n"
     ]
    }
   ],
   "source": [
    "# deve ter um nivel de aleatoriedade no algoritmo porque ele dá diferentes valores\n",
    "print(\"MSE:\", np.mean(predictions))"
   ]
  },
  {
   "cell_type": "code",
   "execution_count": 11,
   "id": "8f9c9b76",
   "metadata": {},
   "outputs": [
    {
     "name": "stdout",
     "output_type": "stream",
     "text": [
      "MSE: 8.580771741993834\n"
     ]
    }
   ],
   "source": [
    "dump(clf, 'cartRegre.joblib') \n",
    "clf2 = load('cartRegre.joblib')\n",
    "pred =[]\n",
    "\n",
    "\n",
    "pred.append(mean_squared_error(grav_k[0], clf2.predict(sinais_k[0])))\n",
    "pred.append(mean_squared_error(grav_k[1], clf2.predict(sinais_k[1])))\n",
    "pred.append(mean_squared_error(grav_k[2], clf2.predict(sinais_k[2])))\n",
    "\n",
    "print(\"MSE:\", np.mean(pred))"
   ]
  },
  {
   "cell_type": "code",
   "execution_count": 12,
   "id": "d1dec1cf",
   "metadata": {},
   "outputs": [],
   "source": [
    "# Carrega os Dadps\n",
    "sinais_vitais = pd.read_csv(r'sinais_vitais_teste.txt')\n",
    "sinais_vitais.set_index('id', inplace=True)\n",
    "sinais = sinais_vitais[['qPA','pulso', 'resp']].values\n",
    "grav = sinais_vitais['grav'].values"
   ]
  },
  {
   "cell_type": "code",
   "execution_count": 13,
   "id": "673b959a",
   "metadata": {},
   "outputs": [
    {
     "name": "stdout",
     "output_type": "stream",
     "text": [
      "MSE: 28.070270741350694\n",
      "MSE: 3.0000988525252525\n"
     ]
    }
   ],
   "source": [
    "clf2 = load('cartRegre.joblib')\n",
    "\n",
    "print(\"MSE:\", mean_squared_error(grav, clf2.predict(sinais)))\n",
    "print(\"MSE:\", mean_absolute_error(grav, clf2.predict(sinais)))"
   ]
  },
  {
   "cell_type": "code",
   "execution_count": 14,
   "id": "46abeba1",
   "metadata": {},
   "outputs": [],
   "source": [
    "clf2.predict(sinais)\n",
    "df = pd.DataFrame(clf2.predict(sinais), columns=['grav'])\n",
    "df.to_csv('grav_cart.csv', index=False)"
   ]
  }
 ],
 "metadata": {
  "kernelspec": {
   "display_name": "Python 3 (ipykernel)",
   "language": "python",
   "name": "python3"
  },
  "language_info": {
   "codemirror_mode": {
    "name": "ipython",
    "version": 3
   },
   "file_extension": ".py",
   "mimetype": "text/x-python",
   "name": "python",
   "nbconvert_exporter": "python",
   "pygments_lexer": "ipython3",
   "version": "3.8.10"
  }
 },
 "nbformat": 4,
 "nbformat_minor": 5
}
