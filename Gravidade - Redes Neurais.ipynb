{
 "cells": [
  {
   "cell_type": "code",
   "execution_count": 1,
   "id": "4ac43267",
   "metadata": {},
   "outputs": [],
   "source": [
    "from sklearn.neural_network import MLPClassifier, MLPRegressor\n",
    "import pandas as pd"
   ]
  },
  {
   "cell_type": "code",
   "execution_count": 2,
   "id": "38cf0c36",
   "metadata": {},
   "outputs": [],
   "source": [
    "from  sklearn.model_selection import train_test_split\n",
    "from sklearn.metrics import mean_squared_error, mean_absolute_error\n",
    "from matplotlib import pyplot as plt\n",
    "import numpy as np"
   ]
  },
  {
   "cell_type": "code",
   "execution_count": 3,
   "id": "9ec14a47",
   "metadata": {},
   "outputs": [
    {
     "data": {
      "text/html": [
       "<div>\n",
       "<style scoped>\n",
       "    .dataframe tbody tr th:only-of-type {\n",
       "        vertical-align: middle;\n",
       "    }\n",
       "\n",
       "    .dataframe tbody tr th {\n",
       "        vertical-align: top;\n",
       "    }\n",
       "\n",
       "    .dataframe thead th {\n",
       "        text-align: right;\n",
       "    }\n",
       "</style>\n",
       "<table border=\"1\" class=\"dataframe\">\n",
       "  <thead>\n",
       "    <tr style=\"text-align: right;\">\n",
       "      <th></th>\n",
       "      <th>id</th>\n",
       "      <th>pSist</th>\n",
       "      <th>pDiast</th>\n",
       "      <th>qPA</th>\n",
       "      <th>pulso</th>\n",
       "      <th>resp</th>\n",
       "      <th>grav</th>\n",
       "      <th>risco</th>\n",
       "    </tr>\n",
       "  </thead>\n",
       "  <tbody>\n",
       "    <tr>\n",
       "      <th>0</th>\n",
       "      <td>1</td>\n",
       "      <td>13.592433</td>\n",
       "      <td>12.220855</td>\n",
       "      <td>8.416754</td>\n",
       "      <td>75.921057</td>\n",
       "      <td>21.635259</td>\n",
       "      <td>40.000000</td>\n",
       "      <td>2</td>\n",
       "    </tr>\n",
       "    <tr>\n",
       "      <th>1</th>\n",
       "      <td>2</td>\n",
       "      <td>15.775386</td>\n",
       "      <td>13.586879</td>\n",
       "      <td>8.725890</td>\n",
       "      <td>63.813564</td>\n",
       "      <td>19.718734</td>\n",
       "      <td>41.530427</td>\n",
       "      <td>2</td>\n",
       "    </tr>\n",
       "    <tr>\n",
       "      <th>2</th>\n",
       "      <td>3</td>\n",
       "      <td>3.649369</td>\n",
       "      <td>1.904802</td>\n",
       "      <td>0.000000</td>\n",
       "      <td>197.210213</td>\n",
       "      <td>19.045471</td>\n",
       "      <td>52.730745</td>\n",
       "      <td>3</td>\n",
       "    </tr>\n",
       "    <tr>\n",
       "      <th>3</th>\n",
       "      <td>4</td>\n",
       "      <td>17.264362</td>\n",
       "      <td>13.700638</td>\n",
       "      <td>8.733333</td>\n",
       "      <td>143.636181</td>\n",
       "      <td>17.621141</td>\n",
       "      <td>34.679911</td>\n",
       "      <td>2</td>\n",
       "    </tr>\n",
       "    <tr>\n",
       "      <th>4</th>\n",
       "      <td>5</td>\n",
       "      <td>12.705183</td>\n",
       "      <td>9.485389</td>\n",
       "      <td>1.747626</td>\n",
       "      <td>82.636672</td>\n",
       "      <td>12.209535</td>\n",
       "      <td>69.375882</td>\n",
       "      <td>3</td>\n",
       "    </tr>\n",
       "  </tbody>\n",
       "</table>\n",
       "</div>"
      ],
      "text/plain": [
       "   id      pSist     pDiast       qPA       pulso       resp       grav  risco\n",
       "0   1  13.592433  12.220855  8.416754   75.921057  21.635259  40.000000      2\n",
       "1   2  15.775386  13.586879  8.725890   63.813564  19.718734  41.530427      2\n",
       "2   3   3.649369   1.904802  0.000000  197.210213  19.045471  52.730745      3\n",
       "3   4  17.264362  13.700638  8.733333  143.636181  17.621141  34.679911      2\n",
       "4   5  12.705183   9.485389  1.747626   82.636672  12.209535  69.375882      3"
      ]
     },
     "execution_count": 3,
     "metadata": {},
     "output_type": "execute_result"
    }
   ],
   "source": [
    "sinais_vitais = pd.read_csv(r'sinais_vitais.txt')\n",
    "sinais_vitais.head()"
   ]
  },
  {
   "cell_type": "code",
   "execution_count": 4,
   "id": "0b90c064",
   "metadata": {},
   "outputs": [],
   "source": [
    "sinais_vitais.set_index('id', inplace=True)"
   ]
  },
  {
   "cell_type": "code",
   "execution_count": 5,
   "id": "534ad8b8",
   "metadata": {},
   "outputs": [],
   "source": [
    "sinais = sinais_vitais[['qPA','pulso', 'resp']]\n",
    "gravidade = sinais_vitais['grav']\n",
    "\n",
    "gravidade = np.ravel(gravidade)"
   ]
  },
  {
   "cell_type": "code",
   "execution_count": 6,
   "id": "bf72a0ed",
   "metadata": {},
   "outputs": [],
   "source": [
    "# k-fold com k = 2\n",
    "div = 3\n",
    "sinais_teste = sinais[:300]\n",
    "sinais_treino = sinais[300:]\n",
    "grav_k = np.array_split(gravidade, 5)\n",
    "\n",
    "grav_treino = np.concatenate((grav_k[1], grav_k[2], grav_k[3], grav_k[4]))\n",
    "grav_teste = grav_k[0]\n",
    "#sinais_treino, sinais_teste, grav_treino, grav_teste = train_test_split(sinais, gravidade, random_state = 1)\n",
    "#sinais_treino"
   ]
  },
  {
   "cell_type": "code",
   "execution_count": 7,
   "id": "107c12bd",
   "metadata": {},
   "outputs": [],
   "source": [
    "NN = MLPRegressor(max_iter=300, activation=\"relu\", hidden_layer_sizes=(100,100,))"
   ]
  },
  {
   "cell_type": "code",
   "execution_count": 8,
   "id": "da7bc0fe",
   "metadata": {},
   "outputs": [],
   "source": [
    "dic_sq = {}\n",
    "dic_abs = {}\n",
    "\n",
    "for i in range(10,100):\n",
    "    \n",
    "    NN = MLPRegressor(max_iter=100000, activation=\"tanh\", hidden_layer_sizes=(i,i), learning_rate=\"adaptive\", shuffle=False)\n",
    "\n",
    "    # treino\n",
    "    NN.fit(sinais_treino, grav_treino)\n",
    "\n",
    "    # predição\n",
    "    NN_pred = NN.predict(sinais_teste)\n",
    "    \n",
    "    dic_sq[i] = mean_squared_error(grav_teste, NN_pred)\n",
    "    dic_abs[i] = mean_absolute_error(grav_teste, NN_pred)\n",
    "    # erros\n",
    "    # print(\"MSE:\", mean_squared_error(grav_teste, NN_pred))\n",
    "    # print(\"MAE:\", mean_absolute_error(grav_teste, NN_pred))"
   ]
  },
  {
   "cell_type": "code",
   "execution_count": 9,
   "id": "43c6ccf8",
   "metadata": {},
   "outputs": [],
   "source": [
    "MLPRegressor?"
   ]
  },
  {
   "cell_type": "code",
   "execution_count": 11,
   "id": "96dae415",
   "metadata": {},
   "outputs": [
    {
     "data": {
      "text/plain": [
       "{10: 17.753157585280757,\n",
       " 11: 7.663799228434055,\n",
       " 12: 10.287620575046457,\n",
       " 13: 44.44671135227394,\n",
       " 14: 6.024630816842267,\n",
       " 15: 12.320780357237492,\n",
       " 16: 9.150376423876043,\n",
       " 17: 57.08971465717392,\n",
       " 18: 5.241304632961361,\n",
       " 19: 52.44164165824887,\n",
       " 20: 5.475916823662419,\n",
       " 21: 5.704192184655585,\n",
       " 22: 6.528029986081246,\n",
       " 23: 5.390687777513546,\n",
       " 24: 5.153988750650808,\n",
       " 25: 6.255942625326024,\n",
       " 26: 6.1084157687338365,\n",
       " 27: 6.960486185937402,\n",
       " 28: 9.749225459272918,\n",
       " 29: 7.1121258105623095,\n",
       " 30: 6.639323130317961,\n",
       " 31: 5.874154048684583,\n",
       " 32: 6.650496392070437,\n",
       " 33: 4.97031903494196,\n",
       " 34: 6.3325713803794725,\n",
       " 35: 6.968674219955248,\n",
       " 36: 5.125568375139018,\n",
       " 37: 7.372738890667779,\n",
       " 38: 6.151394121352574,\n",
       " 39: 4.925598356476858,\n",
       " 40: 7.902654151149209,\n",
       " 41: 6.089130230511659,\n",
       " 42: 5.689600364435226,\n",
       " 43: 6.026809493573871,\n",
       " 44: 7.692727057876021,\n",
       " 45: 4.593999197040027,\n",
       " 46: 7.0288226800065585,\n",
       " 47: 5.27005349135146,\n",
       " 48: 8.219266379482958,\n",
       " 49: 6.154163901797727,\n",
       " 50: 5.77651804013008,\n",
       " 51: 6.4848364260845335,\n",
       " 52: 5.421620281094592,\n",
       " 53: 5.291356568187111,\n",
       " 54: 5.115842171406091,\n",
       " 55: 5.437045151464849,\n",
       " 56: 6.184826611685601,\n",
       " 57: 5.831697536691492,\n",
       " 58: 5.095272158407756,\n",
       " 59: 6.630513974850416,\n",
       " 60: 5.516584183207785,\n",
       " 61: 5.827285902105116,\n",
       " 62: 6.62476704120451,\n",
       " 63: 5.153947483692024,\n",
       " 64: 5.821887869040101,\n",
       " 65: 6.766900252303331,\n",
       " 66: 6.370340358112541,\n",
       " 67: 6.048056580737982,\n",
       " 68: 5.576956350729415,\n",
       " 69: 10.856687937952456,\n",
       " 70: 5.641096515987801,\n",
       " 71: 6.846531136675152,\n",
       " 72: 5.004586749976949,\n",
       " 73: 8.649159956366114,\n",
       " 74: 5.973246470300669,\n",
       " 75: 5.565479159890706,\n",
       " 76: 6.017551972632878,\n",
       " 77: 6.287013109701662,\n",
       " 78: 5.857710105287913,\n",
       " 79: 5.68576500079297,\n",
       " 80: 9.060206711597955,\n",
       " 81: 4.606649165772631,\n",
       " 82: 5.89407202148472,\n",
       " 83: 6.832026878542232,\n",
       " 84: 6.1928906408789715,\n",
       " 85: 5.5936943269921136,\n",
       " 86: 5.777037993037536,\n",
       " 87: 4.764875987501608,\n",
       " 88: 6.1086273489318295,\n",
       " 89: 5.630659346156558,\n",
       " 90: 6.097325539951269,\n",
       " 91: 6.231721932912515,\n",
       " 92: 7.020824624499418,\n",
       " 93: 6.540592469762135,\n",
       " 94: 6.879209857966231,\n",
       " 95: 5.322747693343374,\n",
       " 96: 5.741065727885135,\n",
       " 97: 5.478472899136126,\n",
       " 98: 5.772846198155368,\n",
       " 99: 6.732460750994917}"
      ]
     },
     "execution_count": 11,
     "metadata": {},
     "output_type": "execute_result"
    }
   ],
   "source": [
    "dic_sq"
   ]
  },
  {
   "cell_type": "code",
   "execution_count": 16,
   "id": "3e59b84d",
   "metadata": {},
   "outputs": [],
   "source": [
    "import json"
   ]
  },
  {
   "cell_type": "code",
   "execution_count": 18,
   "id": "8189fef7",
   "metadata": {},
   "outputs": [],
   "source": [
    "with open(\"dic_sq\", \"w\") as fp:\n",
    "    json.dump(dic_sq,fp) "
   ]
  },
  {
   "cell_type": "code",
   "execution_count": 19,
   "id": "784f9d96",
   "metadata": {},
   "outputs": [],
   "source": [
    "with open(\"dic_abs\", \"w\") as fp:\n",
    "    json.dump(dic_abs,fp) "
   ]
  },
  {
   "cell_type": "code",
   "execution_count": null,
   "id": "2fab3c9b",
   "metadata": {},
   "outputs": [],
   "source": []
  }
 ],
 "metadata": {
  "kernelspec": {
   "display_name": "Python 3 (ipykernel)",
   "language": "python",
   "name": "python3"
  },
  "language_info": {
   "codemirror_mode": {
    "name": "ipython",
    "version": 3
   },
   "file_extension": ".py",
   "mimetype": "text/x-python",
   "name": "python",
   "nbconvert_exporter": "python",
   "pygments_lexer": "ipython3",
   "version": "3.8.10"
  }
 },
 "nbformat": 4,
 "nbformat_minor": 5
}
