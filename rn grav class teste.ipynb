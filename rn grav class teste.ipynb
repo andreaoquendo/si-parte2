{
 "cells": [
  {
   "cell_type": "code",
   "execution_count": 1,
   "id": "3adb97a4",
   "metadata": {},
   "outputs": [
    {
     "name": "stdout",
     "output_type": "stream",
     "text": [
      "MSE: 4.543064118527402\n",
      "MAE: 3.1879968152804947\n"
     ]
    }
   ],
   "source": [
    "import pandas as pd\n",
    "import numpy as np\n",
    "from joblib import load\n",
    "from sklearn.metrics import mean_squared_error, mean_absolute_error, precision_score, recall_score, accuracy_score, f1_score\n",
    "\n",
    "# Conseguir sinais vitais\n",
    "sinais_vitais = pd.read_csv(r'sinais_vitais_teste.txt')\n",
    "sinais = sinais_vitais[['qPA','pulso', 'resp']]\n",
    "sinais = sinais.to_numpy()\n",
    "\n",
    "gravidade = sinais_vitais['grav']\n",
    "\n",
    "regressao = load('neuralNetRegre.joblib') \n",
    "predicao_gravidade = regressao.predict(sinais)\n",
    "\n",
    "print(\"MSE:\", mean_squared_error(gravidade, predicao_gravidade, squared=False))\n",
    "print(\"MAE:\", mean_absolute_error(gravidade, predicao_gravidade))\n",
    "\n",
    "gravidade = pd.DataFrame(predicao_gravidade, columns = ['grav'])"
   ]
  },
  {
   "cell_type": "code",
   "execution_count": 5,
   "id": "ad3945f0",
   "metadata": {},
   "outputs": [
    {
     "data": {
      "text/plain": [
       "array([1, 3, 3, 2, 3, 3, 2, 2, 2, 2, 3, 1, 1, 2, 3, 3, 2, 1, 1, 1, 2, 2,\n",
       "       3, 2, 2, 2, 2, 3, 2, 3, 2, 2, 2, 3, 2, 2, 3, 2, 2, 1, 3, 2, 2, 3,\n",
       "       2, 3, 2, 3, 2, 2, 2, 2, 2, 1, 3, 2, 2, 3, 1, 2, 2, 2, 2, 2, 3, 2,\n",
       "       2, 2, 2, 3, 1, 1, 1, 3, 2, 2, 2, 3, 2, 2, 2, 2, 2, 2, 2, 3, 1, 1,\n",
       "       3, 2, 2, 2, 3, 3, 2, 2, 2, 2, 3, 1, 2, 1, 2, 2, 2, 2, 1, 1, 2, 3,\n",
       "       3, 2, 1, 2, 2, 3, 2, 1, 3, 3, 2, 2, 3, 1, 2, 2, 2, 2, 2, 1, 3, 2,\n",
       "       2, 2, 2, 2, 1, 2, 3, 3, 1, 2, 2, 2, 2, 2, 3, 2, 2, 2, 2, 2, 1, 2,\n",
       "       2, 2, 3, 2, 2, 2, 2, 3, 2, 2, 2, 3, 3, 2, 2, 3, 3, 2, 2, 1, 2, 2,\n",
       "       3, 1, 3, 1, 2, 3, 2, 2, 2, 3, 2, 2, 2, 3, 1, 1, 3, 3, 2, 3, 2, 2,\n",
       "       2, 1, 2, 4, 2, 3, 2, 2, 1, 2, 1, 2, 2, 3, 3, 2, 1, 2, 1, 2, 2, 3,\n",
       "       2, 2, 2, 3, 3, 2, 2, 2, 3, 2, 2, 2, 2, 1, 1, 2, 2, 2, 2, 2, 2, 2,\n",
       "       2, 2, 2, 2, 3, 3, 3, 2, 1, 2, 2, 3, 3, 3, 2, 2, 2, 2, 2, 2, 2, 3,\n",
       "       3, 2, 3, 2, 3, 3, 2, 2, 2, 2, 2, 1, 2, 3, 3, 2, 2, 2, 2, 2, 1, 3,\n",
       "       2, 1, 2, 2, 2, 3, 2, 3, 2, 2, 2, 2, 2, 2, 2, 2, 2, 3, 3, 3, 3, 3,\n",
       "       2, 1, 2, 2, 2, 2, 1, 3, 3, 2, 3, 2, 1, 3, 1, 2, 2, 2, 2, 3, 2, 2])"
      ]
     },
     "execution_count": 5,
     "metadata": {},
     "output_type": "execute_result"
    }
   ],
   "source": [
    "classificacao = load('neuralNetClass.joblib') \n",
    "predicao_risco = classificacao.predict(gravidade)\n",
    "predicao_risco\n"
   ]
  }
 ],
 "metadata": {
  "kernelspec": {
   "display_name": "Python 3 (ipykernel)",
   "language": "python",
   "name": "python3"
  },
  "language_info": {
   "codemirror_mode": {
    "name": "ipython",
    "version": 3
   },
   "file_extension": ".py",
   "mimetype": "text/x-python",
   "name": "python",
   "nbconvert_exporter": "python",
   "pygments_lexer": "ipython3",
   "version": "3.8.10"
  }
 },
 "nbformat": 4,
 "nbformat_minor": 5
}
